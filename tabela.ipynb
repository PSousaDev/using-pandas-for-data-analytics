{
 "cells": [
  {
   "cell_type": "code",
   "execution_count": 61,
   "metadata": {},
   "outputs": [],
   "source": [
    "import contextlib\n",
    "import pandas as pd\n",
    "import numpy as np\n",
    "filePath='PedroSilvaSousa.txt'\n",
    "with open(filePath, \"w\") as o:\n",
    "    with contextlib.redirect_stdout(o):\n",
    "        url_tabela_imc='https://xtr-tinto.consiste.com.br/xtr/xtrAPI.nsf/api.xsp/fileView/md/3E391C29EE1739FD03258609006C7EAA/0/dataset.CSV'\n",
    "        df=pd.read_csv(url_tabela_imc,sep=';',encoding='latin1',decimal=',')\n",
    "        peso=df['Peso (kg)']\n",
    "        altura=df['Altura (m)']\n",
    "        imc=peso/altura**2\n",
    "        df['imc']=imc.map('{:,.2f}'.format)\n",
    "        df['imc']=df['imc'].astype(str)\n",
    "        df['imc']=df['imc'].str.replace('.', ',',regex=True)\n",
    "        nomeCompleto=df['Primeiro Nome'].str.upper()+df['Sobrenomes'].str.upper()\n",
    "        for i in df.index: \n",
    "            print(nomeCompleto[i]+df['imc'][i])\n"
   ]
  }
 ],
 "metadata": {
  "kernelspec": {
   "display_name": "Python 3.10.6 64-bit",
   "language": "python",
   "name": "python3"
  },
  "language_info": {
   "codemirror_mode": {
    "name": "ipython",
    "version": 3
   },
   "file_extension": ".py",
   "mimetype": "text/x-python",
   "name": "python",
   "nbconvert_exporter": "python",
   "pygments_lexer": "ipython3",
   "version": "3.10.6"
  },
  "orig_nbformat": 4,
  "vscode": {
   "interpreter": {
    "hash": "369f2c481f4da34e4445cda3fffd2e751bd1c4d706f27375911949ba6bb62e1c"
   }
  }
 },
 "nbformat": 4,
 "nbformat_minor": 2
}
